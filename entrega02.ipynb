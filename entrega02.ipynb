{
 "cells": [
  {
   "cell_type": "markdown",
   "id": "8b1d88f4",
   "metadata": {},
   "source": [
    "Bibliotecas"
   ]
  },
  {
   "cell_type": "code",
   "execution_count": 1,
   "id": "06bfe93b",
   "metadata": {},
   "outputs": [],
   "source": [
    "import pandas as pd\n",
    "import seaborn as sns                       \n",
    "import matplotlib.pyplot as plt  "
   ]
  },
  {
   "cell_type": "markdown",
   "id": "f7e1ba4d",
   "metadata": {},
   "source": [
    "Lendo os dados"
   ]
  },
  {
   "cell_type": "code",
   "execution_count": 2,
   "id": "7a6dc8c8",
   "metadata": {},
   "outputs": [],
   "source": [
    "portfolio = pd.read_json('portfolio.json', orient='records', lines=True)\n",
    "profile = pd.read_json('profile.json', orient='records', lines=True)\n",
    "transcript = pd.read_json('transcript.json', orient='records', lines=True)\n",
    "datasets = {'portfolio': portfolio\n",
    "            ,'profile': profile\n",
    "            ,'transcript': transcript}\n"
   ]
  },
  {
   "cell_type": "markdown",
   "id": "3ab4001d",
   "metadata": {},
   "source": [
    "Separando o dicionário da coluna 'value' nas colunas 'offer_id' e 'amount'"
   ]
  },
  {
   "cell_type": "code",
   "execution_count": 3,
   "id": "4b0dec46",
   "metadata": {},
   "outputs": [],
   "source": [
    "transcript_exp = transcript.copy()\n",
    "value_expanded = pd.json_normalize(transcript_exp['value'])\n",
    "transcript_exp = pd.concat([transcript_exp.drop(columns='value'), value_expanded], axis=1)"
   ]
  },
  {
   "cell_type": "markdown",
   "id": "1fe0227e",
   "metadata": {},
   "source": [
    "Normalizando o nome da coluna 'offer_id' e 'offer id'"
   ]
  },
  {
   "cell_type": "code",
   "execution_count": 4,
   "id": "937b8602",
   "metadata": {},
   "outputs": [],
   "source": [
    "transcript_exp['offer_id'] = transcript_exp.get('offer id', pd.NA).fillna(transcript_exp.get('offer_id'))"
   ]
  },
  {
   "cell_type": "markdown",
   "id": "f3e20926",
   "metadata": {},
   "source": [
    "Dando merge nas tabela transcript e portfolio usando a chave 'offer_id' e 'id'"
   ]
  },
  {
   "cell_type": "code",
   "execution_count": 5,
   "id": "3a57c5d5",
   "metadata": {},
   "outputs": [],
   "source": [
    "raw_data = pd.merge(transcript_exp, portfolio, left_on='offer_id', right_on='id', how='left')"
   ]
  },
  {
   "cell_type": "markdown",
   "id": "db069451",
   "metadata": {},
   "source": [
    "Alterando a coluna 'time' que está em horas, para dias, para ficar na mesma unidade de medidade que a coluna 'duration' das ofertas"
   ]
  },
  {
   "cell_type": "code",
   "execution_count": 6,
   "id": "81f9151f",
   "metadata": {},
   "outputs": [],
   "source": [
    "raw_data['time'] = raw_data['time']/24"
   ]
  },
  {
   "cell_type": "markdown",
   "id": "bd165e43",
   "metadata": {},
   "source": [
    "Criando base somente com as ofertas"
   ]
  },
  {
   "cell_type": "code",
   "execution_count": 7,
   "id": "ef5e25c6",
   "metadata": {},
   "outputs": [],
   "source": [
    "offers = raw_data[raw_data['event'].isin(['offer received'])].copy()"
   ]
  },
  {
   "cell_type": "code",
   "execution_count": 8,
   "id": "6358b0a6",
   "metadata": {},
   "outputs": [],
   "source": [
    "offers = offers.rename(columns={'time': 'received_time'})"
   ]
  },
  {
   "cell_type": "code",
   "execution_count": null,
   "id": "8e84a9c3",
   "metadata": {},
   "outputs": [],
   "source": [
    "offers.head(10)"
   ]
  },
  {
   "cell_type": "markdown",
   "id": "027a6513",
   "metadata": {},
   "source": [
    "Incluindo variáveis com dados das transações"
   ]
  },
  {
   "cell_type": "code",
   "execution_count": 10,
   "id": "537f94c5",
   "metadata": {},
   "outputs": [],
   "source": [
    "transactions = transcript_exp[transcript_exp['event'] == 'transaction'].copy()\n",
    "transactions = transactions[['person', 'time', 'amount']]"
   ]
  },
  {
   "cell_type": "code",
   "execution_count": 11,
   "id": "b22e02d2",
   "metadata": {},
   "outputs": [],
   "source": [
    "# Ajustar o time da transactions pra ser em dias também\n",
    "transactions['time'] = transactions['time']/24"
   ]
  },
  {
   "cell_type": "code",
   "execution_count": 13,
   "id": "e08a0060",
   "metadata": {},
   "outputs": [],
   "source": [
    "offers_tx = offers[['person', 'offer_id', 'received_time']].copy()\n",
    "offers_tx = offers_tx.sort_values(['person', 'received_time']).copy()\n",
    "\n",
    "# Adicionar tempo da oferta anterior da mesma pessoa\n",
    "offers_tx['previous_received_time'] = (\n",
    "    offers_tx.groupby('person')['received_time'].shift(1)\n",
    ")\n",
    "\n",
    "# Para quem não tinha nenhuma oferta antes, define como -inf\n",
    "offers_tx['previous_received_time'] = offers_tx['previous_received_time'].fillna(-float('inf'))"
   ]
  },
  {
   "cell_type": "code",
   "execution_count": 14,
   "id": "9597bd74",
   "metadata": {},
   "outputs": [],
   "source": [
    "merged = transactions.merge(offers_tx, on='person', how='inner')\n",
    "\n",
    "# Filtrar transações entre a oferta anterior e a atual\n",
    "mask = (\n",
    "    (merged['time'] >= merged['previous_received_time']) &\n",
    "    (merged['time'] < merged['received_time'])\n",
    ")\n",
    "merged = merged[mask]"
   ]
  },
  {
   "cell_type": "code",
   "execution_count": 15,
   "id": "a80c9076",
   "metadata": {},
   "outputs": [],
   "source": [
    "agg = merged.groupby(['person', 'offer_id', 'received_time']).agg(\n",
    "    pre_offer_avg_spend=('amount', 'mean'),\n",
    "    pre_offer_num_tx=('amount', 'count'),\n",
    "    last_tx_time=('time', 'max')\n",
    ").reset_index()\n",
    "\n",
    "# Calcular tempo desde última transação\n",
    "agg['pre_offer_time_since_last_tx'] = agg['received_time'] - agg['last_tx_time']"
   ]
  },
  {
   "cell_type": "code",
   "execution_count": 16,
   "id": "ee92a344",
   "metadata": {},
   "outputs": [],
   "source": [
    "offers = offers.merge(\n",
    "    agg,\n",
    "    on=['person', 'offer_id', 'received_time'],\n",
    "    how='left'\n",
    ")"
   ]
  },
  {
   "cell_type": "code",
   "execution_count": null,
   "id": "a2c9d2f3",
   "metadata": {},
   "outputs": [],
   "source": [
    "transcript[transcript['person'] == '9fa9ae8f57894cc9a3b8a9bbe0fc1b2f']"
   ]
  },
  {
   "cell_type": "code",
   "execution_count": 200,
   "id": "82ec3268",
   "metadata": {},
   "outputs": [
    {
     "data": {
      "text/html": [
       "<div>\n",
       "<style scoped>\n",
       "    .dataframe tbody tr th:only-of-type {\n",
       "        vertical-align: middle;\n",
       "    }\n",
       "\n",
       "    .dataframe tbody tr th {\n",
       "        vertical-align: top;\n",
       "    }\n",
       "\n",
       "    .dataframe thead th {\n",
       "        text-align: right;\n",
       "    }\n",
       "</style>\n",
       "<table border=\"1\" class=\"dataframe\">\n",
       "  <thead>\n",
       "    <tr style=\"text-align: right;\">\n",
       "      <th></th>\n",
       "      <th>person</th>\n",
       "      <th>event</th>\n",
       "      <th>received_time</th>\n",
       "      <th>offer id</th>\n",
       "      <th>amount</th>\n",
       "      <th>offer_id</th>\n",
       "      <th>reward_x</th>\n",
       "      <th>reward_y</th>\n",
       "      <th>channels</th>\n",
       "      <th>difficulty</th>\n",
       "      <th>duration</th>\n",
       "      <th>offer_type</th>\n",
       "      <th>id</th>\n",
       "      <th>pre_offer_avg_spend</th>\n",
       "      <th>pre_offer_num_tx</th>\n",
       "      <th>last_tx_time</th>\n",
       "      <th>pre_offer_time_since_last_tx</th>\n",
       "    </tr>\n",
       "  </thead>\n",
       "  <tbody>\n",
       "    <tr>\n",
       "      <th>36</th>\n",
       "      <td>9fa9ae8f57894cc9a3b8a9bbe0fc1b2f</td>\n",
       "      <td>offer received</td>\n",
       "      <td>0.0</td>\n",
       "      <td>2906b810c7d4411798c6938adc9daaa5</td>\n",
       "      <td>NaN</td>\n",
       "      <td>2906b810c7d4411798c6938adc9daaa5</td>\n",
       "      <td>NaN</td>\n",
       "      <td>2.0</td>\n",
       "      <td>[web, email, mobile]</td>\n",
       "      <td>10.0</td>\n",
       "      <td>7.0</td>\n",
       "      <td>discount</td>\n",
       "      <td>2906b810c7d4411798c6938adc9daaa5</td>\n",
       "      <td>NaN</td>\n",
       "      <td>NaN</td>\n",
       "      <td>NaN</td>\n",
       "      <td>NaN</td>\n",
       "    </tr>\n",
       "    <tr>\n",
       "      <th>25357</th>\n",
       "      <td>9fa9ae8f57894cc9a3b8a9bbe0fc1b2f</td>\n",
       "      <td>offer received</td>\n",
       "      <td>14.0</td>\n",
       "      <td>2298d6c36e964ae4a3e7e9706d1fb8c2</td>\n",
       "      <td>NaN</td>\n",
       "      <td>2298d6c36e964ae4a3e7e9706d1fb8c2</td>\n",
       "      <td>NaN</td>\n",
       "      <td>3.0</td>\n",
       "      <td>[web, email, mobile, social]</td>\n",
       "      <td>7.0</td>\n",
       "      <td>7.0</td>\n",
       "      <td>discount</td>\n",
       "      <td>2298d6c36e964ae4a3e7e9706d1fb8c2</td>\n",
       "      <td>26.838333</td>\n",
       "      <td>6.0</td>\n",
       "      <td>8.50</td>\n",
       "      <td>5.50</td>\n",
       "    </tr>\n",
       "    <tr>\n",
       "      <th>38069</th>\n",
       "      <td>9fa9ae8f57894cc9a3b8a9bbe0fc1b2f</td>\n",
       "      <td>offer received</td>\n",
       "      <td>17.0</td>\n",
       "      <td>0b1e1539f2cc45b7b9fa7c272da2e1d7</td>\n",
       "      <td>NaN</td>\n",
       "      <td>0b1e1539f2cc45b7b9fa7c272da2e1d7</td>\n",
       "      <td>NaN</td>\n",
       "      <td>5.0</td>\n",
       "      <td>[web, email]</td>\n",
       "      <td>20.0</td>\n",
       "      <td>10.0</td>\n",
       "      <td>discount</td>\n",
       "      <td>0b1e1539f2cc45b7b9fa7c272da2e1d7</td>\n",
       "      <td>28.505000</td>\n",
       "      <td>4.0</td>\n",
       "      <td>16.75</td>\n",
       "      <td>0.25</td>\n",
       "    </tr>\n",
       "    <tr>\n",
       "      <th>50844</th>\n",
       "      <td>9fa9ae8f57894cc9a3b8a9bbe0fc1b2f</td>\n",
       "      <td>offer received</td>\n",
       "      <td>21.0</td>\n",
       "      <td>4d5c57ea9a6940dd891ad53e9dbe8da0</td>\n",
       "      <td>NaN</td>\n",
       "      <td>4d5c57ea9a6940dd891ad53e9dbe8da0</td>\n",
       "      <td>NaN</td>\n",
       "      <td>10.0</td>\n",
       "      <td>[web, email, mobile, social]</td>\n",
       "      <td>10.0</td>\n",
       "      <td>5.0</td>\n",
       "      <td>bogo</td>\n",
       "      <td>4d5c57ea9a6940dd891ad53e9dbe8da0</td>\n",
       "      <td>21.130000</td>\n",
       "      <td>1.0</td>\n",
       "      <td>19.75</td>\n",
       "      <td>1.25</td>\n",
       "    </tr>\n",
       "  </tbody>\n",
       "</table>\n",
       "</div>"
      ],
      "text/plain": [
       "                                 person           event  received_time  \\\n",
       "36     9fa9ae8f57894cc9a3b8a9bbe0fc1b2f  offer received            0.0   \n",
       "25357  9fa9ae8f57894cc9a3b8a9bbe0fc1b2f  offer received           14.0   \n",
       "38069  9fa9ae8f57894cc9a3b8a9bbe0fc1b2f  offer received           17.0   \n",
       "50844  9fa9ae8f57894cc9a3b8a9bbe0fc1b2f  offer received           21.0   \n",
       "\n",
       "                               offer id  amount  \\\n",
       "36     2906b810c7d4411798c6938adc9daaa5     NaN   \n",
       "25357  2298d6c36e964ae4a3e7e9706d1fb8c2     NaN   \n",
       "38069  0b1e1539f2cc45b7b9fa7c272da2e1d7     NaN   \n",
       "50844  4d5c57ea9a6940dd891ad53e9dbe8da0     NaN   \n",
       "\n",
       "                               offer_id  reward_x  reward_y  \\\n",
       "36     2906b810c7d4411798c6938adc9daaa5       NaN       2.0   \n",
       "25357  2298d6c36e964ae4a3e7e9706d1fb8c2       NaN       3.0   \n",
       "38069  0b1e1539f2cc45b7b9fa7c272da2e1d7       NaN       5.0   \n",
       "50844  4d5c57ea9a6940dd891ad53e9dbe8da0       NaN      10.0   \n",
       "\n",
       "                           channels  difficulty  duration offer_type  \\\n",
       "36             [web, email, mobile]        10.0       7.0   discount   \n",
       "25357  [web, email, mobile, social]         7.0       7.0   discount   \n",
       "38069                  [web, email]        20.0      10.0   discount   \n",
       "50844  [web, email, mobile, social]        10.0       5.0       bogo   \n",
       "\n",
       "                                     id  pre_offer_avg_spend  \\\n",
       "36     2906b810c7d4411798c6938adc9daaa5                  NaN   \n",
       "25357  2298d6c36e964ae4a3e7e9706d1fb8c2            26.838333   \n",
       "38069  0b1e1539f2cc45b7b9fa7c272da2e1d7            28.505000   \n",
       "50844  4d5c57ea9a6940dd891ad53e9dbe8da0            21.130000   \n",
       "\n",
       "       pre_offer_num_tx  last_tx_time  pre_offer_time_since_last_tx  \n",
       "36                  NaN           NaN                           NaN  \n",
       "25357               6.0          8.50                          5.50  \n",
       "38069               4.0         16.75                          0.25  \n",
       "50844               1.0         19.75                          1.25  "
      ]
     },
     "execution_count": 200,
     "metadata": {},
     "output_type": "execute_result"
    }
   ],
   "source": [
    "offers[offers['person'] == '9fa9ae8f57894cc9a3b8a9bbe0fc1b2f']"
   ]
  },
  {
   "cell_type": "markdown",
   "id": "73eddc9b",
   "metadata": {},
   "source": [
    "Unindo a base das ofertas com a base dos perfis"
   ]
  },
  {
   "cell_type": "code",
   "execution_count": 17,
   "id": "ac7bca3d",
   "metadata": {},
   "outputs": [],
   "source": [
    "data = pd.merge(offers, profile, how='left', left_on='person', right_on='id')"
   ]
  },
  {
   "cell_type": "markdown",
   "id": "1590c316",
   "metadata": {},
   "source": [
    "Removendo as últimas colunas inúteis antes de começarmos a análisar realmente as variáveis"
   ]
  },
  {
   "cell_type": "code",
   "execution_count": 18,
   "id": "5f0768d6",
   "metadata": {},
   "outputs": [],
   "source": [
    "data.drop(['event', 'offer_id', 'person', 'last_tx_time', 'amount', 'reward_x', 'offer id', 'id_x', 'id_y'], axis=1, inplace=True)"
   ]
  },
  {
   "cell_type": "code",
   "execution_count": 19,
   "id": "f1639799",
   "metadata": {},
   "outputs": [
    {
     "data": {
      "text/html": [
       "<div>\n",
       "<style scoped>\n",
       "    .dataframe tbody tr th:only-of-type {\n",
       "        vertical-align: middle;\n",
       "    }\n",
       "\n",
       "    .dataframe tbody tr th {\n",
       "        vertical-align: top;\n",
       "    }\n",
       "\n",
       "    .dataframe thead th {\n",
       "        text-align: right;\n",
       "    }\n",
       "</style>\n",
       "<table border=\"1\" class=\"dataframe\">\n",
       "  <thead>\n",
       "    <tr style=\"text-align: right;\">\n",
       "      <th></th>\n",
       "      <th>received_time</th>\n",
       "      <th>reward_y</th>\n",
       "      <th>channels</th>\n",
       "      <th>difficulty</th>\n",
       "      <th>duration</th>\n",
       "      <th>offer_type</th>\n",
       "      <th>pre_offer_avg_spend</th>\n",
       "      <th>pre_offer_num_tx</th>\n",
       "      <th>pre_offer_time_since_last_tx</th>\n",
       "      <th>gender</th>\n",
       "      <th>age</th>\n",
       "      <th>became_member_on</th>\n",
       "      <th>income</th>\n",
       "    </tr>\n",
       "  </thead>\n",
       "  <tbody>\n",
       "    <tr>\n",
       "      <th>0</th>\n",
       "      <td>0.0</td>\n",
       "      <td>5.0</td>\n",
       "      <td>[web, email, mobile]</td>\n",
       "      <td>5.0</td>\n",
       "      <td>7.0</td>\n",
       "      <td>bogo</td>\n",
       "      <td>NaN</td>\n",
       "      <td>NaN</td>\n",
       "      <td>NaN</td>\n",
       "      <td>F</td>\n",
       "      <td>75</td>\n",
       "      <td>20170509</td>\n",
       "      <td>100000.0</td>\n",
       "    </tr>\n",
       "    <tr>\n",
       "      <th>1</th>\n",
       "      <td>0.0</td>\n",
       "      <td>5.0</td>\n",
       "      <td>[web, email]</td>\n",
       "      <td>20.0</td>\n",
       "      <td>10.0</td>\n",
       "      <td>discount</td>\n",
       "      <td>NaN</td>\n",
       "      <td>NaN</td>\n",
       "      <td>NaN</td>\n",
       "      <td>None</td>\n",
       "      <td>118</td>\n",
       "      <td>20170804</td>\n",
       "      <td>NaN</td>\n",
       "    </tr>\n",
       "    <tr>\n",
       "      <th>2</th>\n",
       "      <td>0.0</td>\n",
       "      <td>2.0</td>\n",
       "      <td>[web, email, mobile]</td>\n",
       "      <td>10.0</td>\n",
       "      <td>7.0</td>\n",
       "      <td>discount</td>\n",
       "      <td>NaN</td>\n",
       "      <td>NaN</td>\n",
       "      <td>NaN</td>\n",
       "      <td>M</td>\n",
       "      <td>68</td>\n",
       "      <td>20180426</td>\n",
       "      <td>70000.0</td>\n",
       "    </tr>\n",
       "    <tr>\n",
       "      <th>3</th>\n",
       "      <td>0.0</td>\n",
       "      <td>2.0</td>\n",
       "      <td>[web, email, mobile, social]</td>\n",
       "      <td>10.0</td>\n",
       "      <td>10.0</td>\n",
       "      <td>discount</td>\n",
       "      <td>NaN</td>\n",
       "      <td>NaN</td>\n",
       "      <td>NaN</td>\n",
       "      <td>None</td>\n",
       "      <td>118</td>\n",
       "      <td>20170925</td>\n",
       "      <td>NaN</td>\n",
       "    </tr>\n",
       "    <tr>\n",
       "      <th>4</th>\n",
       "      <td>0.0</td>\n",
       "      <td>10.0</td>\n",
       "      <td>[web, email, mobile, social]</td>\n",
       "      <td>10.0</td>\n",
       "      <td>5.0</td>\n",
       "      <td>bogo</td>\n",
       "      <td>NaN</td>\n",
       "      <td>NaN</td>\n",
       "      <td>NaN</td>\n",
       "      <td>None</td>\n",
       "      <td>118</td>\n",
       "      <td>20171002</td>\n",
       "      <td>NaN</td>\n",
       "    </tr>\n",
       "    <tr>\n",
       "      <th>5</th>\n",
       "      <td>0.0</td>\n",
       "      <td>5.0</td>\n",
       "      <td>[web, email, mobile, social]</td>\n",
       "      <td>5.0</td>\n",
       "      <td>5.0</td>\n",
       "      <td>bogo</td>\n",
       "      <td>NaN</td>\n",
       "      <td>NaN</td>\n",
       "      <td>NaN</td>\n",
       "      <td>M</td>\n",
       "      <td>65</td>\n",
       "      <td>20180209</td>\n",
       "      <td>53000.0</td>\n",
       "    </tr>\n",
       "    <tr>\n",
       "      <th>6</th>\n",
       "      <td>0.0</td>\n",
       "      <td>3.0</td>\n",
       "      <td>[web, email, mobile, social]</td>\n",
       "      <td>7.0</td>\n",
       "      <td>7.0</td>\n",
       "      <td>discount</td>\n",
       "      <td>NaN</td>\n",
       "      <td>NaN</td>\n",
       "      <td>NaN</td>\n",
       "      <td>None</td>\n",
       "      <td>118</td>\n",
       "      <td>20170824</td>\n",
       "      <td>NaN</td>\n",
       "    </tr>\n",
       "    <tr>\n",
       "      <th>7</th>\n",
       "      <td>0.0</td>\n",
       "      <td>0.0</td>\n",
       "      <td>[web, email, mobile]</td>\n",
       "      <td>0.0</td>\n",
       "      <td>4.0</td>\n",
       "      <td>informational</td>\n",
       "      <td>NaN</td>\n",
       "      <td>NaN</td>\n",
       "      <td>NaN</td>\n",
       "      <td>M</td>\n",
       "      <td>58</td>\n",
       "      <td>20171111</td>\n",
       "      <td>51000.0</td>\n",
       "    </tr>\n",
       "    <tr>\n",
       "      <th>8</th>\n",
       "      <td>0.0</td>\n",
       "      <td>5.0</td>\n",
       "      <td>[web, email]</td>\n",
       "      <td>20.0</td>\n",
       "      <td>10.0</td>\n",
       "      <td>discount</td>\n",
       "      <td>NaN</td>\n",
       "      <td>NaN</td>\n",
       "      <td>NaN</td>\n",
       "      <td>F</td>\n",
       "      <td>61</td>\n",
       "      <td>20170911</td>\n",
       "      <td>57000.0</td>\n",
       "    </tr>\n",
       "    <tr>\n",
       "      <th>9</th>\n",
       "      <td>0.0</td>\n",
       "      <td>5.0</td>\n",
       "      <td>[web, email]</td>\n",
       "      <td>20.0</td>\n",
       "      <td>10.0</td>\n",
       "      <td>discount</td>\n",
       "      <td>NaN</td>\n",
       "      <td>NaN</td>\n",
       "      <td>NaN</td>\n",
       "      <td>F</td>\n",
       "      <td>62</td>\n",
       "      <td>20160211</td>\n",
       "      <td>71000.0</td>\n",
       "    </tr>\n",
       "  </tbody>\n",
       "</table>\n",
       "</div>"
      ],
      "text/plain": [
       "   received_time  reward_y                      channels  difficulty  \\\n",
       "0            0.0       5.0          [web, email, mobile]         5.0   \n",
       "1            0.0       5.0                  [web, email]        20.0   \n",
       "2            0.0       2.0          [web, email, mobile]        10.0   \n",
       "3            0.0       2.0  [web, email, mobile, social]        10.0   \n",
       "4            0.0      10.0  [web, email, mobile, social]        10.0   \n",
       "5            0.0       5.0  [web, email, mobile, social]         5.0   \n",
       "6            0.0       3.0  [web, email, mobile, social]         7.0   \n",
       "7            0.0       0.0          [web, email, mobile]         0.0   \n",
       "8            0.0       5.0                  [web, email]        20.0   \n",
       "9            0.0       5.0                  [web, email]        20.0   \n",
       "\n",
       "   duration     offer_type  pre_offer_avg_spend  pre_offer_num_tx  \\\n",
       "0       7.0           bogo                  NaN               NaN   \n",
       "1      10.0       discount                  NaN               NaN   \n",
       "2       7.0       discount                  NaN               NaN   \n",
       "3      10.0       discount                  NaN               NaN   \n",
       "4       5.0           bogo                  NaN               NaN   \n",
       "5       5.0           bogo                  NaN               NaN   \n",
       "6       7.0       discount                  NaN               NaN   \n",
       "7       4.0  informational                  NaN               NaN   \n",
       "8      10.0       discount                  NaN               NaN   \n",
       "9      10.0       discount                  NaN               NaN   \n",
       "\n",
       "   pre_offer_time_since_last_tx gender  age  became_member_on    income  \n",
       "0                           NaN      F   75          20170509  100000.0  \n",
       "1                           NaN   None  118          20170804       NaN  \n",
       "2                           NaN      M   68          20180426   70000.0  \n",
       "3                           NaN   None  118          20170925       NaN  \n",
       "4                           NaN   None  118          20171002       NaN  \n",
       "5                           NaN      M   65          20180209   53000.0  \n",
       "6                           NaN   None  118          20170824       NaN  \n",
       "7                           NaN      M   58          20171111   51000.0  \n",
       "8                           NaN      F   61          20170911   57000.0  \n",
       "9                           NaN      F   62          20160211   71000.0  "
      ]
     },
     "execution_count": 19,
     "metadata": {},
     "output_type": "execute_result"
    }
   ],
   "source": [
    "data.head(10)"
   ]
  },
  {
   "cell_type": "markdown",
   "id": "4dd51735",
   "metadata": {},
   "source": [
    "Análisando as variáveis"
   ]
  },
  {
   "cell_type": "code",
   "execution_count": 208,
   "id": "65dfff99",
   "metadata": {},
   "outputs": [
    {
     "data": {
      "text/plain": [
       "<Axes: xlabel='age', ylabel='Count'>"
      ]
     },
     "execution_count": 208,
     "metadata": {},
     "output_type": "execute_result"
    },
    {
     "data": {
      "image/png": "[encoded data removed]",
      "text/plain": [
       "<Figure size 1500x600 with 1 Axes>"
      ]
     },
     "metadata": {},
     "output_type": "display_data"
    }
   ],
   "source": [
    "plt.figure(figsize=(15,6))\n",
    "sns.histplot(data=data, x='age')"
   ]
  },
  {
   "cell_type": "code",
   "execution_count": 210,
   "id": "a65dc5f0",
   "metadata": {},
   "outputs": [
    {
     "data": {
      "text/plain": [
       "<Axes: xlabel='income', ylabel='Count'>"
      ]
     },
     "execution_count": 210,
     "metadata": {},
     "output_type": "execute_result"
    },
    {
     "data": {
      "image/png": "[encoded data removed]",
      "text/plain": [
       "<Figure size 1500x600 with 1 Axes>"
      ]
     },
     "metadata": {},
     "output_type": "display_data"
    }
   ],
   "source": [
    "plt.figure(figsize=(15,6))\n",
    "sns.histplot(data=data, x='income')"
   ]
  },
  {
   "cell_type": "markdown",
   "id": "fce25b6e",
   "metadata": {},
   "source": [
    "Separar base transcript pelas transações"
   ]
  },
  {
   "cell_type": "code",
   "execution_count": 211,
   "id": "15068dab",
   "metadata": {},
   "outputs": [
    {
     "name": "stderr",
     "output_type": "stream",
     "text": [
      "/tmp/ipykernel_3080/581629909.py:2: FutureWarning: \n",
      "\n",
      "Passing `palette` without assigning `hue` is deprecated and will be removed in v0.14.0. Assign the `x` variable to `hue` and set `legend=False` for the same effect.\n",
      "\n",
      "  sns.countplot(data=data, x='offer_type', palette=\"viridis\")\n"
     ]
    },
    {
     "data": {
      "text/plain": [
       "<Axes: xlabel='offer_type', ylabel='count'>"
      ]
     },
     "execution_count": 211,
     "metadata": {},
     "output_type": "execute_result"
    },
    {
     "data": {
      "image/png": "[encoded data removed]",
      "text/plain": [
       "<Figure size 1500x600 with 1 Axes>"
      ]
     },
     "metadata": {},
     "output_type": "display_data"
    }
   ],
   "source": [
    "plt.figure(figsize=(15,6))\n",
    "sns.countplot(data=data, x='offer_type', palette=\"viridis\")"
   ]
  },
  {
   "cell_type": "markdown",
   "id": "6e142042",
   "metadata": {},
   "source": [
    "Valores missing"
   ]
  },
  {
   "cell_type": "code",
   "execution_count": 215,
   "id": "809170b0",
   "metadata": {},
   "outputs": [],
   "source": [
    "# Gráfico com porcentagem de valores ausentes (somente colunas com algum valor ausente)\n",
    "def plot_missing_percent(df):\n",
    "\n",
    "    # 1. Calcular percentual de missing por coluna\n",
    "    missing_pct = df.isna().mean() * 100\n",
    "    missing_pct = missing_pct[missing_pct > 0]\n",
    "\n",
    "    # 2. Verificar se há valores ausentes\n",
    "    if missing_pct.empty:\n",
    "        print(\"✅ Nenhuma coluna com valores ausentes.\")\n",
    "        return\n",
    "\n",
    "    # 3. Plotar gráfico de barras\n",
    "    plt.figure(figsize=(10, 6))\n",
    "    missing_pct.sort_values(ascending=False).plot(kind='bar')\n",
    "\n",
    "    plt.title('Percentual de valores ausentes por coluna')\n",
    "    plt.ylabel('% de valores ausentes')\n",
    "    plt.xlabel('Colunas')\n",
    "    plt.xticks(rotation=45)\n",
    "    plt.grid(axis='y', linestyle='--', alpha=0.7)\n",
    "    plt.tight_layout()\n",
    "    plt.show()"
   ]
  },
  {
   "cell_type": "code",
   "execution_count": 216,
   "id": "ea710732",
   "metadata": {},
   "outputs": [
    {
     "data": {
      "image/png": "[encoded data removed]",
      "text/plain": [
       "<Figure size 1000x600 with 1 Axes>"
      ]
     },
     "metadata": {},
     "output_type": "display_data"
    }
   ],
   "source": [
    "plot_missing_percent(data)"
   ]
  }
 ],
 "metadata": {
  "kernelspec": {
   "display_name": ".venv",
   "language": "python",
   "name": "python3"
  },
  "language_info": {
   "codemirror_mode": {
    "name": "ipython",
    "version": 3
   },
   "file_extension": ".py",
   "mimetype": "text/x-python",
   "name": "python",
   "nbconvert_exporter": "python",
   "pygments_lexer": "ipython3",
   "version": "3.12.3"
  }
 },
 "nbformat": 4,
 "nbformat_minor": 5
}
